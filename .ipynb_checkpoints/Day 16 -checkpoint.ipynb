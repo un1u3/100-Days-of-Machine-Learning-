{
 "cells": [
  {
   "cell_type": "raw",
   "id": "b24ee169-b354-4af4-a2d5-98f3bfa85e35",
   "metadata": {},
   "source": [
    "Pari ho ya ho priyo ki rani "
   ]
  },
  {
   "cell_type": "code",
   "execution_count": null,
   "id": "c2baad53-50fc-44f9-a39a-06d1dfb2d2ea",
   "metadata": {},
   "outputs": [],
   "source": []
  },
  {
   "cell_type": "code",
   "execution_count": null,
   "id": "05916da8-7855-478c-be79-1ec3f6cf827a",
   "metadata": {},
   "outputs": [],
   "source": []
  },
  {
   "cell_type": "code",
   "execution_count": null,
   "id": "fd1e92bd-85a5-4e03-824b-24ccae9352f0",
   "metadata": {},
   "outputs": [],
   "source": []
  },
  {
   "cell_type": "code",
   "execution_count": null,
   "id": "4eeeb5c6-224e-48ec-95dd-dd5ee1a157a4",
   "metadata": {},
   "outputs": [],
   "source": []
  },
  {
   "cell_type": "code",
   "execution_count": null,
   "id": "07fb02ff-78a3-4dc5-98c3-bc83267d0844",
   "metadata": {},
   "outputs": [],
   "source": []
  },
  {
   "cell_type": "code",
   "execution_count": null,
   "id": "9ba548f3-38a0-400d-8c44-1a5019b97c56",
   "metadata": {},
   "outputs": [],
   "source": []
  },
  {
   "cell_type": "code",
   "execution_count": null,
   "id": "657b2fed-0f90-4f44-906d-07c9fc47f869",
   "metadata": {},
   "outputs": [],
   "source": []
  }
 ],
 "metadata": {
  "kernelspec": {
   "display_name": "Python 3 (ipykernel)",
   "language": "python",
   "name": "python3"
  },
  "language_info": {
   "codemirror_mode": {
    "name": "ipython",
    "version": 3
   },
   "file_extension": ".py",
   "mimetype": "text/x-python",
   "name": "python",
   "nbconvert_exporter": "python",
   "pygments_lexer": "ipython3",
   "version": "3.12.7"
  }
 },
 "nbformat": 4,
 "nbformat_minor": 5
}
