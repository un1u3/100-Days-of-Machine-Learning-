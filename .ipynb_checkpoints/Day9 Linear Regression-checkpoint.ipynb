{
 "cells": [
  {
   "cell_type": "markdown",
   "id": "dedc572c-5701-4c31-9e21-abfe5efb3db2",
   "metadata": {},
   "source": [
    "## Handeling Missing Numerical Data "
   ]
  },
  {
   "cell_type": "code",
   "execution_count": 1,
   "id": "2092a2d3-3b1d-4286-b29e-29a73eed995e",
   "metadata": {},
   "outputs": [
    {
     "ename": "SyntaxError",
     "evalue": "invalid syntax (3246503025.py, line 1)",
     "output_type": "error",
     "traceback": [
      "\u001b[0;36m  Cell \u001b[0;32mIn[1], line 1\u001b[0;36m\u001b[0m\n\u001b[0;31m    Univariate Imputaion and Multivariate Impuatation\u001b[0m\n\u001b[0m               ^\u001b[0m\n\u001b[0;31mSyntaxError\u001b[0m\u001b[0;31m:\u001b[0m invalid syntax\n"
     ]
    }
   ],
   "source": [
    "Univariate Imputaion and Multivariate Impuatation "
   ]
  },
  {
   "cell_type": "code",
   "execution_count": null,
   "id": "c882dea8-2eca-499a-afa9-2abff63a88e8",
   "metadata": {},
   "outputs": [],
   "source": []
  }
 ],
 "metadata": {
  "kernelspec": {
   "display_name": "Python 3 (ipykernel)",
   "language": "python",
   "name": "python3"
  },
  "language_info": {
   "codemirror_mode": {
    "name": "ipython",
    "version": 3
   },
   "file_extension": ".py",
   "mimetype": "text/x-python",
   "name": "python",
   "nbconvert_exporter": "python",
   "pygments_lexer": "ipython3",
   "version": "3.12.7"
  }
 },
 "nbformat": 4,
 "nbformat_minor": 5
}
