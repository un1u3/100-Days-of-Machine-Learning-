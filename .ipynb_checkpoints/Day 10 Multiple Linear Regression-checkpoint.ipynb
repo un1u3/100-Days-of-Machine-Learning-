{
 "cells": [
  {
   "cell_type": "code",
   "execution_count": null,
   "id": "961b2e8a-b7b6-4511-8c7d-711887db0644",
   "metadata": {},
   "outputs": [],
   "source": [
    "from sklearn.datsets import make_regression\n",
    "import pandas as pd \n",
    "import numpy as np\n",
    "import plotly.express as px \n",
    "import plotly.grpah_objects as go \n",
    "from sklearn.metrics import mean_absolute_error, mea"
   ]
  }
 ],
 "metadata": {
  "kernelspec": {
   "display_name": "Python 3 (ipykernel)",
   "language": "python",
   "name": "python3"
  },
  "language_info": {
   "codemirror_mode": {
    "name": "ipython",
    "version": 3
   },
   "file_extension": ".py",
   "mimetype": "text/x-python",
   "name": "python",
   "nbconvert_exporter": "python",
   "pygments_lexer": "ipython3",
   "version": "3.12.7"
  }
 },
 "nbformat": 4,
 "nbformat_minor": 5
}
