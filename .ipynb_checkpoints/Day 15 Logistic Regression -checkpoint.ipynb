{
 "cells": [
  {
   "cell_type": "code",
   "execution_count": 1,
   "id": "bdeeec3f-608b-4ddf-91df-e41201275d11",
   "metadata": {},
   "outputs": [],
   "source": [
    "from sklearn import datasets # for loading datasets\n",
    "from sklearn import model_selection\n",
    "from sklearn.linear_model import LogisticRegression\n"
   ]
  },
  {
   "cell_type": "code",
   "execution_count": 3,
   "id": "9d29d69c-0ebf-4b39-920c-3abc677c962a",
   "metadata": {},
   "outputs": [],
   "source": [
    "cancer_ds = datasets.load_breast_cancer()"
   ]
  },
  {
   "cell_type": "code",
   "execution_count": 4,
   "id": "e571facf-678f-4d2e-a8ff-648aeaaef940",
   "metadata": {},
   "outputs": [
    {
     "ename": "TypeError",
     "evalue": "'Bunch' object is not callable",
     "output_type": "error",
     "traceback": [
      "\u001b[0;31m---------------------------------------------------------------------------\u001b[0m",
      "\u001b[0;31mTypeError\u001b[0m                                 Traceback (most recent call last)",
      "Cell \u001b[0;32mIn[4], line 1\u001b[0m\n\u001b[0;32m----> 1\u001b[0m cancer_ds()\n",
      "\u001b[0;31mTypeError\u001b[0m: 'Bunch' object is not callable"
     ]
    }
   ],
   "source": [
    "cancer_ds()"
   ]
  },
  {
   "cell_type": "code",
   "execution_count": null,
   "id": "b261f769-7547-4d89-a64b-aed3abfe0b72",
   "metadata": {},
   "outputs": [],
   "source": []
  }
 ],
 "metadata": {
  "kernelspec": {
   "display_name": "Python 3 (ipykernel)",
   "language": "python",
   "name": "python3"
  },
  "language_info": {
   "codemirror_mode": {
    "name": "ipython",
    "version": 3
   },
   "file_extension": ".py",
   "mimetype": "text/x-python",
   "name": "python",
   "nbconvert_exporter": "python",
   "pygments_lexer": "ipython3",
   "version": "3.12.7"
  }
 },
 "nbformat": 4,
 "nbformat_minor": 5
}
