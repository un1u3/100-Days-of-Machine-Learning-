{
 "cells": [
  {
   "cell_type": "code",
   "execution_count": 6,
   "id": "b6547e8c-7545-43ee-b72b-725423d17ef0",
   "metadata": {},
   "outputs": [],
   "source": [
    " # if get a mixed data we can ssplit the data into two columns"
   ]
  },
  {
   "cell_type": "code",
   "execution_count": null,
   "id": "371bf3b2-f319-4c5e-a3a5-288ca77a2caa",
   "metadata": {},
   "outputs": [],
   "source": []
  }
 ],
 "metadata": {
  "kernelspec": {
   "display_name": "Python 3 (ipykernel)",
   "language": "python",
   "name": "python3"
  },
  "language_info": {
   "codemirror_mode": {
    "name": "ipython",
    "version": 3
   },
   "file_extension": ".py",
   "mimetype": "text/x-python",
   "name": "python",
   "nbconvert_exporter": "python",
   "pygments_lexer": "ipython3",
   "version": "3.12.7"
  }
 },
 "nbformat": 4,
 "nbformat_minor": 5
}
