{
 "cells": [
  {
   "cell_type": "markdown",
   "id": "b817ef6e-65f9-4dad-8318-7371703a25b7",
   "metadata": {},
   "source": [
    "### Handling missing data"
   ]
  },
  {
   "cell_type": "markdown",
   "id": "761021bb-705f-42ca-8953-84feb0e9c035",
   "metadata": {},
   "source": [
    "Two methods\n",
    "- Univeriate \n",
    "- Multivariate \n"
   ]
  },
  {
   "cell_type": "markdown",
   "id": "5f814115-b1be-4e20-a2b0-4ce73fd3c1e5",
   "metadata": {},
   "source": [
    "#### Complete case analysis (CCA)\n",
    "1. Empty value vako sab row updai dine\n",
    "2. Teti bela matra apply jati bela randomly data empty hunxa\n",
    "\n",
    "> WHen use CCA?\n",
    "> 1. Missing Data at Random\n",
    "> 2. Missing data > 5%\n",
    "> 3. "
   ]
  },
  {
   "cell_type": "code",
   "execution_count": null,
   "id": "e0002619-f07e-49c7-82b0-f8f5c63cf8c3",
   "metadata": {},
   "outputs": [],
   "source": []
  },
  {
   "cell_type": "code",
   "execution_count": null,
   "id": "0b34ab75-8489-4074-add8-fed4bfad1756",
   "metadata": {},
   "outputs": [],
   "source": []
  },
  {
   "cell_type": "code",
   "execution_count": null,
   "id": "f4a1aaf2-fa58-4086-b873-64468dd64848",
   "metadata": {},
   "outputs": [],
   "source": []
  }
 ],
 "metadata": {
  "kernelspec": {
   "display_name": "Python 3 (ipykernel)",
   "language": "python",
   "name": "python3"
  },
  "language_info": {
   "codemirror_mode": {
    "name": "ipython",
    "version": 3
   },
   "file_extension": ".py",
   "mimetype": "text/x-python",
   "name": "python",
   "nbconvert_exporter": "python",
   "pygments_lexer": "ipython3",
   "version": "3.12.7"
  }
 },
 "nbformat": 4,
 "nbformat_minor": 5
}
