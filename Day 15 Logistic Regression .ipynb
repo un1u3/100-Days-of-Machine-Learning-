{
 "cells": [
  {
   "cell_type": "code",
   "execution_count": 9,
   "id": "bdeeec3f-608b-4ddf-91df-e41201275d11",
   "metadata": {},
   "outputs": [],
   "source": [
    "from sklearn import datasets # for loading datasets\n",
    "from sklearn.model_selection import train_test_split\n",
    "from sklearn.linear_model import LogisticRegression\n"
   ]
  },
  {
   "cell_type": "code",
   "execution_count": 10,
   "id": "9d29d69c-0ebf-4b39-920c-3abc677c962a",
   "metadata": {},
   "outputs": [],
   "source": [
    "cancer_ds = datasets.load_breast_cancer()"
   ]
  },
  {
   "cell_type": "code",
   "execution_count": 11,
   "id": "e571facf-678f-4d2e-a8ff-648aeaaef940",
   "metadata": {},
   "outputs": [],
   "source": [
    "X = cancer_ds.data #contains feature , input values \n",
    "Y = cancer_ds.target #contains target , "
   ]
  },
  {
   "cell_type": "code",
   "execution_count": null,
   "id": "b261f769-7547-4d89-a64b-aed3abfe0b72",
   "metadata": {},
   "outputs": [],
   "source": [
    "# Split the dataset \n",
    "X_train, X_test, y_train, y_test = train_test_split"
   ]
  }
 ],
 "metadata": {
  "kernelspec": {
   "display_name": "Python 3 (ipykernel)",
   "language": "python",
   "name": "python3"
  },
  "language_info": {
   "codemirror_mode": {
    "name": "ipython",
    "version": 3
   },
   "file_extension": ".py",
   "mimetype": "text/x-python",
   "name": "python",
   "nbconvert_exporter": "python",
   "pygments_lexer": "ipython3",
   "version": "3.12.7"
  }
 },
 "nbformat": 4,
 "nbformat_minor": 5
}
