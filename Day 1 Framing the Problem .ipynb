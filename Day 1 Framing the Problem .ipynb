{
 "cells": [
  {
   "cell_type": "markdown",
   "id": "365bfbae",
   "metadata": {},
   "source": [
    "## Framing a ML Problem \n",
    "1. Define the Problem : What are you solving(eg classification, regression , clustering)\n",
    "2. Understanding the Data : Identify features, target, and data quality( labeled or unlabeled)\n",
    "3. Set the objectives : Choose the goal \n",
    "4. Pick an Evaluation metrics \n",
    "5. Outine Inputs and Outputs \n",
    "6. Baseline Comparision \n",
    "7. Iterate and Refine ."
   ]
  },
  {
   "cell_type": "code",
   "execution_count": null,
   "id": "f82a4407",
   "metadata": {},
   "outputs": [],
   "source": []
  },
  {
   "cell_type": "code",
   "execution_count": null,
   "id": "7d535010",
   "metadata": {},
   "outputs": [],
   "source": []
  }
 ],
 "metadata": {
  "kernelspec": {
   "display_name": "Python 3 (ipykernel)",
   "language": "python",
   "name": "python3"
  },
  "language_info": {
   "codemirror_mode": {
    "name": "ipython",
    "version": 3
   },
   "file_extension": ".py",
   "mimetype": "text/x-python",
   "name": "python",
   "nbconvert_exporter": "python",
   "pygments_lexer": "ipython3",
   "version": "3.11.5"
  }
 },
 "nbformat": 4,
 "nbformat_minor": 5
}
