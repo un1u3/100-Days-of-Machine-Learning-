{
 "cells": [
  {
   "cell_type": "markdown",
   "id": "893d8a23-32d0-4064-89b4-043867b30be1",
   "metadata": {},
   "source": [
    "Today is the last day of Nepai new year 2081\n",
    "But still no progress \n",
    "but today I promise to code daily \n",
    "This is unique last commit of 2081 \n",
    "Happy New Year "
   ]
  }
 ],
 "metadata": {
  "kernelspec": {
   "display_name": "Python 3 (ipykernel)",
   "language": "python",
   "name": "python3"
  },
  "language_info": {
   "codemirror_mode": {
    "name": "ipython",
    "version": 3
   },
   "file_extension": ".py",
   "mimetype": "text/x-python",
   "name": "python",
   "nbconvert_exporter": "python",
   "pygments_lexer": "ipython3",
   "version": "3.12.7"
  }
 },
 "nbformat": 4,
 "nbformat_minor": 5
}
