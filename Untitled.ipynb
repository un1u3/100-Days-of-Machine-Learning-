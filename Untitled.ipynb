{
 "cells": [
  {
   "cell_type": "code",
   "execution_count": 9,
   "id": "83a53889",
   "metadata": {},
   "outputs": [],
   "source": [
    "import numpy as np \n",
    "import pandas as pd "
   ]
  },
  {
   "cell_type": "code",
   "execution_count": 12,
   "id": "24ba27de",
   "metadata": {},
   "outputs": [],
   "source": [
    "df =pd.read_csv('datasets/customers.csv')"
   ]
  },
  {
   "cell_type": "code",
   "execution_count": 16,
   "id": "e686df1e",
   "metadata": {},
   "outputs": [
    {
     "name": "stdout",
     "output_type": "stream",
     "text": [
      "   Age  Gender              Review    Education\n",
      "0   25    Male   Great experience!   Bachelor's\n",
      "1   30  Female    Could be better.     Master's\n",
      "2   22   Other  Loved the service.  High School\n",
      "3   35    Male      Not satisfied.          PhD\n",
      "4   28  Female    Amazing support!   Bachelor's\n"
     ]
    }
   ],
   "source": [
    "import pandas as pd\n",
    "\n",
    "# Sample dataset\n",
    "data = {\n",
    "    \"Age\": [25, 30, 22, 35, 28],\n",
    "    \"Gender\": [\"Male\", \"Female\", \"Other\", \"Male\", \"Female\"],\n",
    "    \"Review\": [\n",
    "        \"Great experience!\",\n",
    "        \"Could be better.\",\n",
    "        \"Loved the service.\",\n",
    "        \"Not satisfied.\",\n",
    "        \"Amazing support!\"\n",
    "    ],\n",
    "    \"Education\": [\"Bachelor's\", \"Master's\", \"High School\", \"PhD\", \"Bachelor's\"]\n",
    "}\n",
    "\n",
    "# Creating DataFrame\n",
    "df = pd.DataFrame(data)\n",
    "\n",
    "# Display dataset\n",
    "print(df)\n"
   ]
  },
  {
   "cell_type": "code",
   "execution_count": null,
   "id": "48025b3e",
   "metadata": {},
   "outputs": [],
   "source": []
  },
  {
   "cell_type": "code",
   "execution_count": null,
   "id": "afbc1be7",
   "metadata": {},
   "outputs": [],
   "source": []
  }
 ],
 "metadata": {
  "kernelspec": {
   "display_name": "Python 3 (ipykernel)",
   "language": "python",
   "name": "python3"
  },
  "language_info": {
   "codemirror_mode": {
    "name": "ipython",
    "version": 3
   },
   "file_extension": ".py",
   "mimetype": "text/x-python",
   "name": "python",
   "nbconvert_exporter": "python",
   "pygments_lexer": "ipython3",
   "version": "3.11.5"
  }
 },
 "nbformat": 4,
 "nbformat_minor": 5
}
