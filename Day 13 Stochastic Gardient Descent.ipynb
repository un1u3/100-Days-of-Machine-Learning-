{
 "cells": [
  {
   "cell_type": "markdown",
   "id": "69e24501-d0d9-442d-b0bc-2074f79d14c5",
   "metadata": {},
   "source": [
    "The goal of SGD is to find the optimal parameters (weights) of a model by iteratively updating them in the direction that reduces the error. This is done by computing the gradient (derivative) of the loss function."
   ]
  },
  {
   "cell_type": "code",
   "execution_count": null,
   "id": "3bf402d5-760d-4da2-b39b-3c2cc5245b03",
   "metadata": {},
   "outputs": [],
   "source": []
  }
 ],
 "metadata": {
  "kernelspec": {
   "display_name": "Python 3 (ipykernel)",
   "language": "python",
   "name": "python3"
  },
  "language_info": {
   "codemirror_mode": {
    "name": "ipython",
    "version": 3
   },
   "file_extension": ".py",
   "mimetype": "text/x-python",
   "name": "python",
   "nbconvert_exporter": "python",
   "pygments_lexer": "ipython3",
   "version": "3.12.7"
  }
 },
 "nbformat": 4,
 "nbformat_minor": 5
}
